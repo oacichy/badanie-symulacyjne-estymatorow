{
  "cells": [
    {
      "cell_type": "markdown",
      "metadata": {
        "id": "MfLjLua_ytS5"
      },
      "source": [
        "Wstęp"
      ]
    },
    {
      "cell_type": "markdown",
      "metadata": {
        "id": "zPOghLIJzwj7"
      },
      "source": [
        "W niniejszym projekcie wykorzystano zbiór danych \"lalonde\" z biblioteki MatchIt. Dane składają się ze zmiennych demograficznych takich jak wiek, rasa, wykształcenie i wcześniejsze rzeczywiste zarobki, a także treatment indicator i rzeczywiste zarobki w 1978 roku. Celem było przeprowadzenie symulacyjnego badania wybranych estymatorów, natomiast celem symulacji było oszacowanie średniej wartości wybranej zmiennej w populacji. Estymatory, które wybrano do badania to estymator post-stratyfikacyjny oraz kalibracyjny."
      ]
    },
    {
      "cell_type": "markdown",
      "metadata": {
        "id": "5-nJUMH5yywi"
      },
      "source": [
        "Metodyka"
      ]
    },
    {
      "cell_type": "markdown",
      "metadata": {
        "id": "8kJ5NwgJ7kOe"
      },
      "source": [
        "W badaniu zdecydowano się na quasi-randomizacyjne metody estymacji prób nielosowych, a dokładniej estymatory kalibracyjne, w których konstruowane są pseudo-wagi z\n",
        "wykorzystaniem próby losowej lub znanych/estymowanych\n",
        "wartości globalnych. Estymatory kalibracyjne charakteryzują się mniejszym obciążeniem i wariancją w porównaniu do estymatorów znanych z klasycznej metody reprezentacyjnej i dostarczają wiarygodniejszych wyników w przypadku licznych braków odpowiedzi. Pierwszym wybranym estymatorem jest klasyczna kalibracja, a drugim post-stratyfikacja, która jest szczególnym przypadkiem kalibracji."
      ]
    },
    {
      "cell_type": "markdown",
      "metadata": {
        "id": "lQMdzaYmy1BN"
      },
      "source": [
        "##Opis symulacji"
      ]
    },
    {
      "cell_type": "markdown",
      "metadata": {
        "id": "fAUeZYG80hFl"
      },
      "source": [
        "Na wstępie symulacji zostaje obliczona prawdziwa wartość średniej realnych zarobków w 1978 roku. Jest ona wyznaczana dla całej populacji. \n",
        "\n",
        "Następnie wygenerowana zostaje próba losowa oraz próba nielosowa. Próba nielosowa stanowi 25% całej populacji i jest ona losowana proporcjonalnie do wielkości realnych zarobków w 1978 roku. Wielkość próby losowej została ustawiona na 153, tak aby rozmiary obu grup były jednakowe. \n",
        "\n",
        "W każdej iteracji obliczony zostaje estymator naiwny oraz dwa estymatory korygujące błędy losowe - post-stratyfikacyjny oraz kalibracyjny. \n",
        "\n",
        "Dla kazdego estymatora obliczona zostaje średnia wartość zmiennej re78. \n",
        "\n"
      ]
    },
    {
      "cell_type": "markdown",
      "metadata": {
        "id": "IzoIlZS_ooeQ"
      },
      "source": [
        "##Symulacja"
      ]
    },
    {
      "cell_type": "code",
      "execution_count": null,
      "metadata": {
        "colab": {
          "base_uri": "https://localhost:8080/"
        },
        "id": "JSbiNFEnojPP",
        "outputId": "a48b121f-e358-4e56-95ce-0432792be37e",
        "vscode": {
          "languageId": "r"
        }
      },
      "outputs": [
        {
          "name": "stderr",
          "output_type": "stream",
          "text": [
            "Installing package into ‘/usr/local/lib/R/site-library’\n",
            "(as ‘lib’ is unspecified)\n",
            "\n",
            "Installing package into ‘/usr/local/lib/R/site-library’\n",
            "(as ‘lib’ is unspecified)\n",
            "\n",
            "also installing the dependencies ‘Rcpp’, ‘minqa’, ‘numDeriv’, ‘mitools’\n",
            "\n",
            "\n",
            "Installing package into ‘/usr/local/lib/R/site-library’\n",
            "(as ‘lib’ is unspecified)\n",
            "\n",
            "also installing the dependency ‘RcppProgress’\n",
            "\n",
            "\n"
          ]
        }
      ],
      "source": [
        "install.packages(\"tidyverse\")\n",
        "install.packages(\"survey\")\n",
        "install.packages(\"MatchIt\")"
      ]
    },
    {
      "cell_type": "code",
      "execution_count": null,
      "metadata": {
        "colab": {
          "base_uri": "https://localhost:8080/"
        },
        "id": "DEyDHouBo2mb",
        "outputId": "4ff0593c-e3c6-4d82-b2b7-434eb2725e98",
        "vscode": {
          "languageId": "r"
        }
      },
      "outputs": [
        {
          "name": "stderr",
          "output_type": "stream",
          "text": [
            "Loading required package: grid\n",
            "\n",
            "Loading required package: Matrix\n",
            "\n",
            "Loading required package: survival\n",
            "\n",
            "\n",
            "Attaching package: ‘survey’\n",
            "\n",
            "\n",
            "The following object is masked from ‘package:graphics’:\n",
            "\n",
            "    dotchart\n",
            "\n",
            "\n",
            "Warning message in system(\"timedatectl\", intern = TRUE):\n",
            "“running command 'timedatectl' had status 1”\n",
            "── \u001b[1mAttaching packages\u001b[22m ─────────────────────────────────────── tidyverse 1.3.1 ──\n",
            "\n",
            "\u001b[32m✔\u001b[39m \u001b[34mtibble \u001b[39m 3.1.7     \u001b[32m✔\u001b[39m \u001b[34mdplyr  \u001b[39m 1.0.9\n",
            "\u001b[32m✔\u001b[39m \u001b[34mtidyr  \u001b[39m 1.2.0     \u001b[32m✔\u001b[39m \u001b[34mstringr\u001b[39m 1.4.0\n",
            "\u001b[32m✔\u001b[39m \u001b[34mreadr  \u001b[39m 2.1.2     \u001b[32m✔\u001b[39m \u001b[34mforcats\u001b[39m 0.5.1\n",
            "\u001b[32m✔\u001b[39m \u001b[34mpurrr  \u001b[39m 0.3.4     \n",
            "\n",
            "── \u001b[1mConflicts\u001b[22m ────────────────────────────────────────── tidyverse_conflicts() ──\n",
            "\u001b[31m✖\u001b[39m \u001b[34mtidyr\u001b[39m::\u001b[32mexpand()\u001b[39m masks \u001b[34mMatrix\u001b[39m::expand()\n",
            "\u001b[31m✖\u001b[39m \u001b[34mdplyr\u001b[39m::\u001b[32mfilter()\u001b[39m masks \u001b[34mstats\u001b[39m::filter()\n",
            "\u001b[31m✖\u001b[39m \u001b[34mdplyr\u001b[39m::\u001b[32mlag()\u001b[39m    masks \u001b[34mstats\u001b[39m::lag()\n",
            "\u001b[31m✖\u001b[39m \u001b[34mtidyr\u001b[39m::\u001b[32mpack()\u001b[39m   masks \u001b[34mMatrix\u001b[39m::pack()\n",
            "\u001b[31m✖\u001b[39m \u001b[34mtidyr\u001b[39m::\u001b[32munpack()\u001b[39m masks \u001b[34mMatrix\u001b[39m::unpack()\n",
            "\n"
          ]
        }
      ],
      "source": [
        "library(ggplot2)\n",
        "library(survey)\n",
        "library(tidyverse)\n",
        "library(MatchIt)"
      ]
    },
    {
      "cell_type": "markdown",
      "metadata": {
        "id": "p4A6JdqCyggS"
      },
      "source": [
        " **Import danych**"
      ]
    },
    {
      "cell_type": "code",
      "execution_count": null,
      "metadata": {
        "colab": {
          "base_uri": "https://localhost:8080/",
          "height": 286
        },
        "id": "Ygj921RGIYt1",
        "outputId": "3b7077b6-8b2c-458e-ccc3-1d634c5bee4e",
        "vscode": {
          "languageId": "r"
        }
      },
      "outputs": [
        {
          "data": {
            "text/html": [
              "<table class=\"dataframe\">\n",
              "<caption>A data.frame: 6 × 9</caption>\n",
              "<thead>\n",
              "\t<tr><th></th><th scope=col>treat</th><th scope=col>age</th><th scope=col>educ</th><th scope=col>race</th><th scope=col>married</th><th scope=col>nodegree</th><th scope=col>re74</th><th scope=col>re75</th><th scope=col>re78</th></tr>\n",
              "\t<tr><th></th><th scope=col>&lt;int&gt;</th><th scope=col>&lt;int&gt;</th><th scope=col>&lt;int&gt;</th><th scope=col>&lt;fct&gt;</th><th scope=col>&lt;int&gt;</th><th scope=col>&lt;int&gt;</th><th scope=col>&lt;dbl&gt;</th><th scope=col>&lt;dbl&gt;</th><th scope=col>&lt;dbl&gt;</th></tr>\n",
              "</thead>\n",
              "<tbody>\n",
              "\t<tr><th scope=row>NSW1</th><td>1</td><td>37</td><td>11</td><td>black </td><td>1</td><td>1</td><td>0</td><td>0</td><td> 9930.0460</td></tr>\n",
              "\t<tr><th scope=row>NSW2</th><td>1</td><td>22</td><td> 9</td><td>hispan</td><td>0</td><td>1</td><td>0</td><td>0</td><td> 3595.8940</td></tr>\n",
              "\t<tr><th scope=row>NSW3</th><td>1</td><td>30</td><td>12</td><td>black </td><td>0</td><td>0</td><td>0</td><td>0</td><td>24909.4500</td></tr>\n",
              "\t<tr><th scope=row>NSW4</th><td>1</td><td>27</td><td>11</td><td>black </td><td>0</td><td>1</td><td>0</td><td>0</td><td> 7506.1460</td></tr>\n",
              "\t<tr><th scope=row>NSW5</th><td>1</td><td>33</td><td> 8</td><td>black </td><td>0</td><td>1</td><td>0</td><td>0</td><td>  289.7899</td></tr>\n",
              "\t<tr><th scope=row>NSW6</th><td>1</td><td>22</td><td> 9</td><td>black </td><td>0</td><td>1</td><td>0</td><td>0</td><td> 4056.4940</td></tr>\n",
              "</tbody>\n",
              "</table>\n"
            ],
            "text/latex": [
              "A data.frame: 6 × 9\n",
              "\\begin{tabular}{r|lllllllll}\n",
              "  & treat & age & educ & race & married & nodegree & re74 & re75 & re78\\\\\n",
              "  & <int> & <int> & <int> & <fct> & <int> & <int> & <dbl> & <dbl> & <dbl>\\\\\n",
              "\\hline\n",
              "\tNSW1 & 1 & 37 & 11 & black  & 1 & 1 & 0 & 0 &  9930.0460\\\\\n",
              "\tNSW2 & 1 & 22 &  9 & hispan & 0 & 1 & 0 & 0 &  3595.8940\\\\\n",
              "\tNSW3 & 1 & 30 & 12 & black  & 0 & 0 & 0 & 0 & 24909.4500\\\\\n",
              "\tNSW4 & 1 & 27 & 11 & black  & 0 & 1 & 0 & 0 &  7506.1460\\\\\n",
              "\tNSW5 & 1 & 33 &  8 & black  & 0 & 1 & 0 & 0 &   289.7899\\\\\n",
              "\tNSW6 & 1 & 22 &  9 & black  & 0 & 1 & 0 & 0 &  4056.4940\\\\\n",
              "\\end{tabular}\n"
            ],
            "text/markdown": [
              "\n",
              "A data.frame: 6 × 9\n",
              "\n",
              "| <!--/--> | treat &lt;int&gt; | age &lt;int&gt; | educ &lt;int&gt; | race &lt;fct&gt; | married &lt;int&gt; | nodegree &lt;int&gt; | re74 &lt;dbl&gt; | re75 &lt;dbl&gt; | re78 &lt;dbl&gt; |\n",
              "|---|---|---|---|---|---|---|---|---|---|\n",
              "| NSW1 | 1 | 37 | 11 | black  | 1 | 1 | 0 | 0 |  9930.0460 |\n",
              "| NSW2 | 1 | 22 |  9 | hispan | 0 | 1 | 0 | 0 |  3595.8940 |\n",
              "| NSW3 | 1 | 30 | 12 | black  | 0 | 0 | 0 | 0 | 24909.4500 |\n",
              "| NSW4 | 1 | 27 | 11 | black  | 0 | 1 | 0 | 0 |  7506.1460 |\n",
              "| NSW5 | 1 | 33 |  8 | black  | 0 | 1 | 0 | 0 |   289.7899 |\n",
              "| NSW6 | 1 | 22 |  9 | black  | 0 | 1 | 0 | 0 |  4056.4940 |\n",
              "\n"
            ],
            "text/plain": [
              "     treat age educ race   married nodegree re74 re75 re78      \n",
              "NSW1 1     37  11   black  1       1        0    0     9930.0460\n",
              "NSW2 1     22   9   hispan 0       1        0    0     3595.8940\n",
              "NSW3 1     30  12   black  0       0        0    0    24909.4500\n",
              "NSW4 1     27  11   black  0       1        0    0     7506.1460\n",
              "NSW5 1     33   8   black  0       1        0    0      289.7899\n",
              "NSW6 1     22   9   black  0       1        0    0     4056.4940"
            ]
          },
          "metadata": {},
          "output_type": "display_data"
        }
      ],
      "source": [
        "data(lalonde)\n",
        "head(lalonde)"
      ]
    },
    {
      "cell_type": "markdown",
      "metadata": {
        "id": "9bOJMAMSyfg6"
      },
      "source": [
        "Przekształcenie zmiennych *nodegree* oraz *treat* ze zmiennych liczbowych na zmienne kategorialne"
      ]
    },
    {
      "cell_type": "code",
      "execution_count": null,
      "metadata": {
        "colab": {
          "base_uri": "https://localhost:8080/",
          "height": 286
        },
        "id": "0vhIPG9bIo_V",
        "outputId": "f6c95ec7-de8c-4571-c8db-525762da5bfe",
        "vscode": {
          "languageId": "r"
        }
      },
      "outputs": [
        {
          "data": {
            "text/html": [
              "<table class=\"dataframe\">\n",
              "<caption>A data.frame: 6 × 9</caption>\n",
              "<thead>\n",
              "\t<tr><th></th><th scope=col>treat</th><th scope=col>age</th><th scope=col>educ</th><th scope=col>race</th><th scope=col>married</th><th scope=col>nodegree</th><th scope=col>re74</th><th scope=col>re75</th><th scope=col>re78</th></tr>\n",
              "\t<tr><th></th><th scope=col>&lt;fct&gt;</th><th scope=col>&lt;int&gt;</th><th scope=col>&lt;int&gt;</th><th scope=col>&lt;fct&gt;</th><th scope=col>&lt;int&gt;</th><th scope=col>&lt;fct&gt;</th><th scope=col>&lt;dbl&gt;</th><th scope=col>&lt;dbl&gt;</th><th scope=col>&lt;dbl&gt;</th></tr>\n",
              "</thead>\n",
              "<tbody>\n",
              "\t<tr><th scope=row>PSID424</th><td>0</td><td>25</td><td>14</td><td>white </td><td>0</td><td>0</td><td>0</td><td>0</td><td>    0.0000</td></tr>\n",
              "\t<tr><th scope=row>PSID425</th><td>0</td><td>18</td><td>11</td><td>white </td><td>0</td><td>1</td><td>0</td><td>0</td><td>10150.5000</td></tr>\n",
              "\t<tr><th scope=row>PSID426</th><td>0</td><td>24</td><td> 1</td><td>hispan</td><td>1</td><td>1</td><td>0</td><td>0</td><td>19464.6100</td></tr>\n",
              "\t<tr><th scope=row>PSID427</th><td>0</td><td>21</td><td>18</td><td>white </td><td>0</td><td>0</td><td>0</td><td>0</td><td>    0.0000</td></tr>\n",
              "\t<tr><th scope=row>PSID428</th><td>0</td><td>32</td><td> 5</td><td>black </td><td>1</td><td>1</td><td>0</td><td>0</td><td>  187.6713</td></tr>\n",
              "\t<tr><th scope=row>PSID429</th><td>0</td><td>16</td><td> 9</td><td>white </td><td>0</td><td>1</td><td>0</td><td>0</td><td> 1495.4590</td></tr>\n",
              "</tbody>\n",
              "</table>\n"
            ],
            "text/latex": [
              "A data.frame: 6 × 9\n",
              "\\begin{tabular}{r|lllllllll}\n",
              "  & treat & age & educ & race & married & nodegree & re74 & re75 & re78\\\\\n",
              "  & <fct> & <int> & <int> & <fct> & <int> & <fct> & <dbl> & <dbl> & <dbl>\\\\\n",
              "\\hline\n",
              "\tPSID424 & 0 & 25 & 14 & white  & 0 & 0 & 0 & 0 &     0.0000\\\\\n",
              "\tPSID425 & 0 & 18 & 11 & white  & 0 & 1 & 0 & 0 & 10150.5000\\\\\n",
              "\tPSID426 & 0 & 24 &  1 & hispan & 1 & 1 & 0 & 0 & 19464.6100\\\\\n",
              "\tPSID427 & 0 & 21 & 18 & white  & 0 & 0 & 0 & 0 &     0.0000\\\\\n",
              "\tPSID428 & 0 & 32 &  5 & black  & 1 & 1 & 0 & 0 &   187.6713\\\\\n",
              "\tPSID429 & 0 & 16 &  9 & white  & 0 & 1 & 0 & 0 &  1495.4590\\\\\n",
              "\\end{tabular}\n"
            ],
            "text/markdown": [
              "\n",
              "A data.frame: 6 × 9\n",
              "\n",
              "| <!--/--> | treat &lt;fct&gt; | age &lt;int&gt; | educ &lt;int&gt; | race &lt;fct&gt; | married &lt;int&gt; | nodegree &lt;fct&gt; | re74 &lt;dbl&gt; | re75 &lt;dbl&gt; | re78 &lt;dbl&gt; |\n",
              "|---|---|---|---|---|---|---|---|---|---|\n",
              "| PSID424 | 0 | 25 | 14 | white  | 0 | 0 | 0 | 0 |     0.0000 |\n",
              "| PSID425 | 0 | 18 | 11 | white  | 0 | 1 | 0 | 0 | 10150.5000 |\n",
              "| PSID426 | 0 | 24 |  1 | hispan | 1 | 1 | 0 | 0 | 19464.6100 |\n",
              "| PSID427 | 0 | 21 | 18 | white  | 0 | 0 | 0 | 0 |     0.0000 |\n",
              "| PSID428 | 0 | 32 |  5 | black  | 1 | 1 | 0 | 0 |   187.6713 |\n",
              "| PSID429 | 0 | 16 |  9 | white  | 0 | 1 | 0 | 0 |  1495.4590 |\n",
              "\n"
            ],
            "text/plain": [
              "        treat age educ race   married nodegree re74 re75 re78      \n",
              "PSID424 0     25  14   white  0       0        0    0        0.0000\n",
              "PSID425 0     18  11   white  0       1        0    0    10150.5000\n",
              "PSID426 0     24   1   hispan 1       1        0    0    19464.6100\n",
              "PSID427 0     21  18   white  0       0        0    0        0.0000\n",
              "PSID428 0     32   5   black  1       1        0    0      187.6713\n",
              "PSID429 0     16   9   white  0       1        0    0     1495.4590"
            ]
          },
          "metadata": {},
          "output_type": "display_data"
        }
      ],
      "source": [
        "dane <- lalonde %>%\n",
        "    mutate(nodegree = as.factor(nodegree), treat = as.factor(treat))\n",
        "tail(dane)\n"
      ]
    },
    {
      "cell_type": "code",
      "execution_count": null,
      "metadata": {
        "colab": {
          "base_uri": "https://localhost:8080/",
          "height": 433
        },
        "id": "1TmDI9ivIgI-",
        "outputId": "57c0266f-d452-412e-f336-a8451aab2403",
        "vscode": {
          "languageId": "r"
        }
      },
      "outputs": [
        {
          "data": {
            "text/html": [
              "6792.83448298046"
            ],
            "text/latex": [
              "6792.83448298046"
            ],
            "text/markdown": [
              "6792.83448298046"
            ],
            "text/plain": [
              "[1] 6792.834"
            ]
          },
          "metadata": {},
          "output_type": "display_data"
        },
        {
          "data": {
            "text/html": [
              "13646.588072549"
            ],
            "text/latex": [
              "13646.588072549"
            ],
            "text/markdown": [
              "13646.588072549"
            ],
            "text/plain": [
              "[1] 13646.59"
            ]
          },
          "metadata": {},
          "output_type": "display_data"
        },
        {
          "data": {
            "text/html": [
              "13322.0100796622"
            ],
            "text/latex": [
              "13322.0100796622"
            ],
            "text/markdown": [
              "13322.0100796622"
            ],
            "text/plain": [
              "[1] 13322.01"
            ]
          },
          "metadata": {},
          "output_type": "display_data"
        },
        {
          "data": {
            "text/html": [
              "13332.3865394112"
            ],
            "text/latex": [
              "13332.3865394112"
            ],
            "text/markdown": [
              "13332.3865394112"
            ],
            "text/plain": [
              "[1] 13332.39"
            ]
          },
          "metadata": {},
          "output_type": "display_data"
        },
        {
          "data": {
            "text/plain": [
              "race\n",
              " black hispan  white \n",
              "    53     17     83 "
            ]
          },
          "metadata": {},
          "output_type": "display_data"
        },
        {
          "data": {
            "text/plain": [
              "nodegree\n",
              " 0  1 \n",
              "72 81 "
            ]
          },
          "metadata": {},
          "output_type": "display_data"
        },
        {
          "data": {
            "text/plain": [
              "race\n",
              "   black   hispan    white \n",
              "4.584906 4.235294 3.602410 "
            ]
          },
          "metadata": {},
          "output_type": "display_data"
        },
        {
          "data": {
            "text/plain": [
              "nodegree\n",
              "       0        1 \n",
              "3.152778 4.777778 "
            ]
          },
          "metadata": {},
          "output_type": "display_data"
        },
        {
          "data": {
            "text/plain": [
              "           total SE\n",
              "raceblack    243  0\n",
              "racehispan    72  0\n",
              "racewhite    299  0"
            ]
          },
          "metadata": {},
          "output_type": "display_data"
        },
        {
          "data": {
            "text/plain": [
              "race\n",
              " black hispan  white \n",
              "   243     72    299 "
            ]
          },
          "metadata": {},
          "output_type": "display_data"
        }
      ],
      "source": [
        "#średnia wartość zmiennej re78 (realnych zarobków w 1978 roku)\n",
        "re78_prawdziwa <- mean(dane$re78)\n",
        "re78_prawdziwa\n",
        "\n",
        "B <- 100\n",
        "wyniki_naiwny <- numeric(B)\n",
        "wyniki_ps <- numeric(B)\n",
        "wyniki_calib <- numeric(B)\n",
        "total_rows <- nrow(dane)\n",
        "n_losowa <- 153\n",
        "\n",
        "#wartości globalne\n",
        "globalne <- xtabs(~ race + nodegree, data = dane)\n",
        "\n",
        "for (b in 1:B) {\n",
        "  #tworzenie próby nielosowej\n",
        "  set.seed(b)\n",
        "  nielos_id <- sample(x = 1:total_rows, size = 0.25*total_rows, \n",
        "                      prob = dane$re78/sum(dane$re78))\n",
        "  #wybieram rekordy\n",
        "  nielosowa <- dane[nielos_id, ]\n",
        "\n",
        "\n",
        "  losowa_id <- sample(x = 1:total_rows, size=n_losowa)\n",
        "  losowa <- dane[losowa_id, ]\n",
        "\n",
        "  #estymator naiwny dla próby nielosowej\n",
        "  wyniki_naiwny[b] <- mean(nielosowa$re78)\n",
        "\n",
        "  #POST-STRATYFIKACJA\n",
        "  #przygotowanie do post-stratyfikcji - tworzenie obiektu design na danych z próby nielosowej\n",
        "  svydes <- svydesign(ids = ~1, data = nielosowa, weights = ~1)\n",
        "\n",
        "  #post-stratyfikacja - tworzenie nowego obiektu design, który uwzględnia wagi post-stratyfikacyjne\n",
        "  svydes_post <- postStratify(svydes, ~ race + nodegree, globalne)\n",
        "  \n",
        "  #estymator post-stratyfikacyjny z wykorzystaniem funkcji svymean\n",
        "  wyniki_ps[b] <- svymean(~ re78, svydes_post)[1]\n",
        "\n",
        "\n",
        "  #KALIBRACJA\n",
        "  global_race <- xtabs(~ race, data = dane)\n",
        "  global_nodegree <- xtabs(~ nodegree, data = dane)\n",
        "\n",
        "  #przygotowanie do kalibracji - tworzenie obiektu design na danych z próby nielosowej\n",
        "  svy_nielos <- svydesign(ids = ~1, weight = ~1, data = nielosowa)\n",
        "\n",
        "  #kalibracji dokonujemy niezależnie dla zmiennej race i nodegree\n",
        "  svy_nielos_calib <- calibrate(\n",
        "    design = svy_nielos,\n",
        "    formula = list(~ race, ~ nodegree), \n",
        "    population = list(global_race,global_nodegree))\n",
        "\n",
        "  wyniki_calib[b] <- svymean(~re78, svy_nielos_calib)\n",
        "\n",
        "}\n",
        "wyniki_naiwny[b]\n",
        "wyniki_ps[b]\n",
        "wyniki_calib[b]\n",
        "\n",
        "#wartości z próby nielosowej\n",
        "svytable(~race, svy_nielos)\n",
        "svytable(~nodegree, svy_nielos)\n",
        "\n",
        "#weryfikacja o ile razy uzyskane dane różnią się populacji \n",
        "global_race /svytable(~race, svy_nielos)\n",
        "global_nodegree / svytable(~nodegree, svy_nielos)\n",
        "\n",
        "#weryfikacja czy kalibracja zadziałała\n",
        "svytotal(~race, svy_nielos_calib)\n",
        "global_race\n",
        "\n"
      ]
    },
    {
      "cell_type": "code",
      "execution_count": null,
      "metadata": {
        "colab": {
          "base_uri": "https://localhost:8080/",
          "height": 53
        },
        "id": "G6bXFm6WJ0Rs",
        "outputId": "b3beda8f-815b-4277-eff5-174cac837822",
        "vscode": {
          "languageId": "r"
        }
      },
      "outputs": [
        {
          "data": {
            "text/plain": [
              "   Min. 1st Qu.  Median    Mean 3rd Qu.    Max. \n",
              "  2.885   2.885   4.452   4.013   4.604   5.265 "
            ]
          },
          "metadata": {},
          "output_type": "display_data"
        }
      ],
      "source": [
        "#porównanie jak bardzo wagi się zmieniły \n",
        "summary(weights(svy_nielos_calib)/weights(svy_nielos))\n",
        "\n",
        "#średnio wagi były przemnożone 4 razy "
      ]
    },
    {
      "cell_type": "code",
      "execution_count": null,
      "metadata": {
        "colab": {
          "base_uri": "https://localhost:8080/",
          "height": 90
        },
        "id": "Luqc_vfaGo6x",
        "outputId": "141a5607-62b8-4c64-cc23-896a90fb99c8",
        "vscode": {
          "languageId": "r"
        }
      },
      "outputs": [
        {
          "data": {
            "text/plain": [
              "      mean    SE\n",
              "re78 13647 659.7"
            ]
          },
          "metadata": {},
          "output_type": "display_data"
        },
        {
          "data": {
            "text/plain": [
              "      mean     SE\n",
              "re78 13332 708.98"
            ]
          },
          "metadata": {},
          "output_type": "display_data"
        }
      ],
      "source": [
        "svymean(~re78, svy_nielos) #bez kalibracji\n",
        "svymean(~re78, svy_nielos_calib) #z kalibracją race i nodegree"
      ]
    },
    {
      "cell_type": "code",
      "execution_count": null,
      "metadata": {
        "colab": {
          "base_uri": "https://localhost:8080/",
          "height": 149
        },
        "id": "PVVvcpBrLzLC",
        "outputId": "ef5206da-329c-4d2f-eac9-ca5ed1110147",
        "vscode": {
          "languageId": "r"
        }
      },
      "outputs": [
        {
          "data": {
            "text/html": [
              "<table class=\"dataframe\">\n",
              "<caption>A data.frame: 1 × 10</caption>\n",
              "<thead>\n",
              "\t<tr><th scope=col>naive_oczekiwana</th><th scope=col>naive_odchyl</th><th scope=col>naive_obciazenie</th><th scope=col>post_oczekiwana</th><th scope=col>post_odchyl</th><th scope=col>post_obciazenie</th><th scope=col>calib_oczekiwana</th><th scope=col>calib_odchyl</th><th scope=col>calib_obciazenie</th><th scope=col>re78_prawdziwa</th></tr>\n",
              "\t<tr><th scope=col>&lt;dbl&gt;</th><th scope=col>&lt;dbl&gt;</th><th scope=col>&lt;dbl&gt;</th><th scope=col>&lt;dbl&gt;</th><th scope=col>&lt;dbl&gt;</th><th scope=col>&lt;dbl&gt;</th><th scope=col>&lt;dbl&gt;</th><th scope=col>&lt;dbl&gt;</th><th scope=col>&lt;dbl&gt;</th><th scope=col>&lt;dbl&gt;</th></tr>\n",
              "</thead>\n",
              "<tbody>\n",
              "\t<tr><td>13447.37</td><td>407.6595</td><td>6654.534</td><td>13306.66</td><td>406.925</td><td>6513.826</td><td>13294.12</td><td>408.0906</td><td>6501.287</td><td>6792.834</td></tr>\n",
              "</tbody>\n",
              "</table>\n"
            ],
            "text/latex": [
              "A data.frame: 1 × 10\n",
              "\\begin{tabular}{llllllllll}\n",
              " naive\\_oczekiwana & naive\\_odchyl & naive\\_obciazenie & post\\_oczekiwana & post\\_odchyl & post\\_obciazenie & calib\\_oczekiwana & calib\\_odchyl & calib\\_obciazenie & re78\\_prawdziwa\\\\\n",
              " <dbl> & <dbl> & <dbl> & <dbl> & <dbl> & <dbl> & <dbl> & <dbl> & <dbl> & <dbl>\\\\\n",
              "\\hline\n",
              "\t 13447.37 & 407.6595 & 6654.534 & 13306.66 & 406.925 & 6513.826 & 13294.12 & 408.0906 & 6501.287 & 6792.834\\\\\n",
              "\\end{tabular}\n"
            ],
            "text/markdown": [
              "\n",
              "A data.frame: 1 × 10\n",
              "\n",
              "| naive_oczekiwana &lt;dbl&gt; | naive_odchyl &lt;dbl&gt; | naive_obciazenie &lt;dbl&gt; | post_oczekiwana &lt;dbl&gt; | post_odchyl &lt;dbl&gt; | post_obciazenie &lt;dbl&gt; | calib_oczekiwana &lt;dbl&gt; | calib_odchyl &lt;dbl&gt; | calib_obciazenie &lt;dbl&gt; | re78_prawdziwa &lt;dbl&gt; |\n",
              "|---|---|---|---|---|---|---|---|---|---|\n",
              "| 13447.37 | 407.6595 | 6654.534 | 13306.66 | 406.925 | 6513.826 | 13294.12 | 408.0906 | 6501.287 | 6792.834 |\n",
              "\n"
            ],
            "text/plain": [
              "  naive_oczekiwana naive_odchyl naive_obciazenie post_oczekiwana post_odchyl\n",
              "1 13447.37         407.6595     6654.534         13306.66        406.925    \n",
              "  post_obciazenie calib_oczekiwana calib_odchyl calib_obciazenie re78_prawdziwa\n",
              "1 6513.826        13294.12         408.0906     6501.287         6792.834      "
            ]
          },
          "metadata": {},
          "output_type": "display_data"
        }
      ],
      "source": [
        "wyniki <- data.frame(naive_oczekiwana = mean(wyniki_naiwny), \n",
        "                     naive_odchyl = sd(wyniki_naiwny), \n",
        "                     naive_obciazenie = mean(wyniki_naiwny) - re78_prawdziwa,\n",
        "                     post_oczekiwana = mean(wyniki_ps), \n",
        "                     post_odchyl = sd(wyniki_ps), \n",
        "                     post_obciazenie = mean(wyniki_ps) - re78_prawdziwa,\n",
        "                     calib_oczekiwana = mean(wyniki_calib),\n",
        "                     calib_odchyl = sd(wyniki_calib),\n",
        "                     calib_obciazenie = mean(wyniki_calib) - re78_prawdziwa,\n",
        "                     re78_prawdziwa = re78_prawdziwa\n",
        "                     \n",
        ")\n",
        "wyniki"
      ]
    },
    {
      "cell_type": "markdown",
      "metadata": {
        "id": "ZxrmFiKC0R6d"
      },
      "source": [
        "Wykres przedstawia jak zmieniły się wagi pod wpływem kalibracji. "
      ]
    },
    {
      "cell_type": "code",
      "execution_count": null,
      "metadata": {
        "colab": {
          "base_uri": "https://localhost:8080/",
          "height": 437
        },
        "id": "lN4Zm8ypG9O6",
        "outputId": "5844b196-2e2d-4c14-dd09-47d85e149025",
        "vscode": {
          "languageId": "r"
        }
      },
      "outputs": [
        {
          "data": {
            "image/png": "[encoded data removed]",
            "text/plain": [
              "plot without title"
            ]
          },
          "metadata": {
            "image/png": {
              "height": 420,
              "width": 420
            }
          },
          "output_type": "display_data"
        }
      ],
      "source": [
        "plot(weights(svy_nielos), weights(svy_nielos_calib))"
      ]
    },
    {
      "cell_type": "markdown",
      "metadata": {
        "id": "zE1yK_qvzOL0"
      },
      "source": [
        "##Wyniki"
      ]
    },
    {
      "cell_type": "markdown",
      "metadata": {
        "id": "EMlnRoz-Q9vG"
      },
      "source": [
        "Wartość prawdziwa średniej wartości zmiennej re78 tj. realnych zarobków w 1978 roku wyniosła 6792,83.\n",
        "Estymator naiwny dla tej zmiennej na podstawie próby nielosowej wyniósł 13447,37.\n",
        "\n",
        "W celu obliczenia kolejnego estymatora, wykonano post-stratyfikację, estymator ten przyjął wartość równą 13322,01.\n",
        "\n",
        "W badaniu dokonano również kalibracji oddzielnie dla zmiennej *race* oraz zmiennej *nodegree*. Próba nielosowa zawierała 153 obiekty, a wartości poszczególnych kategorii obu zmiennych prezentowały się następująco:\n",
        "\n",
        "\n",
        "> Race:\n",
        "*   black:   53\n",
        "*   hispan:  17\n",
        "*   white:   83\n",
        "\n",
        "\n",
        "> Nodegree\n",
        "*   0: 72\n",
        "*   1: 81\n",
        "\n",
        "Następnie obliczono estymator średniej wartości zmiennej *re78*, która wyniosła 13332,38. Dla porównania, przed zastosowaniem kalibracji, wynik ten był równy 13647 dla próby nielosowej.\n",
        "\n",
        "W kolejnym kroku zweryfikowano jak uzyskane dane w próbie losowej różnią się od populacji. W tym celu obliczono stosunek wartości globalnych dla poszczególnych zmiennych w próbie losowej do wartości uzyskanych w próbie nielosowej. Dla obu zmiennych stosunki te oscylowały od 2,6 do 3,8. \n",
        "\n",
        "Po przeprowadzonej kalibracji wagi zmieniły się średnio 4 razy. \n",
        "\n",
        "Na podstawie przeprowadzonego badania symulacyjnego dla każdego estymatora obliczono wartość oczekiwaną, odchylenie standardowe oraz obciążenie. W efekcie uzyskano następujące wyniki:\n",
        "\n",
        "\n",
        "> Wartość oczekiwana:\n",
        "\n",
        "\n",
        "*   estymator naiwny:                13447.37\n",
        "*   estymator post-stratyfikacyjny:  13306.66\n",
        "*   estymator kalibracyjny: 13294.12\n",
        "\n",
        "\n",
        "\n",
        "> Odchylenie standardowe:\n",
        "\n",
        "*   estymator naiwny:                407.6595\n",
        "*   estymator post-stratyfikacyjny:  406.925\n",
        "*   estymator kalibracyjny: 408.0906\n",
        "\n",
        "\n",
        "> Obciążenie:\n",
        "\n",
        "*   estymator naiwny:                6654.534\n",
        "*   estymator post-stratyfikacyjny:  6513.826\n",
        "*   estymator kalibracyjny: 6501.287\n",
        "\n",
        "Wartości oczekiwane są bardzo zbliżone do tych uzyskanych podczas symulacji.\n",
        "Odchylenie standardowe dla estymatorów jest dosyć duże,co świadczy o tym, że wartości zmiennej *re78* są silnie rozproszone wokół średniej, są mocno zróżnicowane. \n",
        "Najmniejsze obciążenie uzyskano w przypadku estymatora kalibracyjnego.\n",
        "\n",
        "\n",
        "\n",
        "\n"
      ]
    },
    {
      "cell_type": "markdown",
      "metadata": {
        "id": "cusM2aCzzQ3K"
      },
      "source": [
        "Podsumowanie"
      ]
    },
    {
      "cell_type": "markdown",
      "metadata": {
        "id": "ohnK0GQDgBY1"
      },
      "source": [
        "Występujące różnice pomiędzy estymatorem naiwnym oraz post-stratyfikacyjnym wskazują, że zmienna *re78* wykorzystana do post-stratyfikacji działa, bo różnicuje populację.\n",
        "\n",
        "Zastosowana kalibracja przybliżyła wyglądem próbę do populacji, przez co umożliwiła poprawę efektywności uzyskanych wyników.  \n"
      ]
    }
  ],
  "metadata": {
    "colab": {
      "collapsed_sections": [
        "MfLjLua_ytS5",
        "5-nJUMH5yywi",
        "lQMdzaYmy1BN"
      ],
      "name": "projekt_CichyTryba.ipynb",
      "provenance": []
    },
    "kernelspec": {
      "display_name": "R",
      "name": "ir"
    },
    "language_info": {
      "name": "R"
    }
  },
  "nbformat": 4,
  "nbformat_minor": 0
}
